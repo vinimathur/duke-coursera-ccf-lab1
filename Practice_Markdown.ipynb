{
  "nbformat": 4,
  "nbformat_minor": 0,
  "metadata": {
    "kernelspec": {
      "display_name": "Python 3",
      "language": "python",
      "name": "python3"
    },
    "language_info": {
      "codemirror_mode": {
        "name": "ipython",
        "version": 3
      },
      "file_extension": ".py",
      "mimetype": "text/x-python",
      "name": "python",
      "nbconvert_exporter": "python",
      "pygments_lexer": "ipython3",
      "version": "3.7.6"
    },
    "colab": {
      "name": "Practice-Markdown.ipynb",
      "provenance": [],
      "include_colab_link": true
    }
  },
  "cells": [
    {
      "cell_type": "markdown",
      "metadata": {
        "id": "view-in-github",
        "colab_type": "text"
      },
      "source": [
        "<a href=\"https://colab.research.google.com/github/vinimathur/duke-coursera-ccf-lab1/blob/main/Practice_Markdown.ipynb\" target=\"_parent\"><img src=\"https://colab.research.google.com/assets/colab-badge.svg\" alt=\"Open In Colab\"/></a>"
      ]
    },
    {
      "cell_type": "markdown",
      "metadata": {
        "id": "EijKy-TzPiUA"
      },
      "source": [
        "## Practice Markdown"
      ]
    },
    {
      "cell_type": "markdown",
      "metadata": {
        "id": "TZwRSL0HPiUG"
      },
      "source": [
        "This notebook lets you experiment with producing repeatable technical documentation.  Use this notebook to do the following actions:\n",
        "\n",
        "* Create a code cell and print a Python Hello World statement:  `print(\"hello world\")`\n",
        "* Create a Markdown Cell and add a Title using `#` and then a statement using plain text.  You can looks at the source code for this cell to get an idea of how to use Markdown.\n",
        "* Take some ideas from the [Master Markdown Github Guide](https://guides.github.com/features/mastering-markdown/) and implement them here.\n",
        "* Download this notebook as a `.ipynb` file and check into a Github Project.  You can [see an example here](https://github.com/noahgift/duke-coursera-ccf-lab1/blob/main/Practice-Markdown.ipynb).\n",
        "* Open your notebook in Google Colab and save it into the same Github Project.  You can [see an example here](https://github.com/noahgift/duke-coursera-ccf-lab1/blob/main/Practice_Markdown_with_colab.ipynb).\n"
      ]
    },
    {
      "cell_type": "code",
      "metadata": {
        "id": "LtwXvV-9PiUG",
        "outputId": "80e7606d-10c5-4fd1-872d-e3f03d60ed24",
        "colab": {
          "base_uri": "https://localhost:8080/"
        }
      },
      "source": [
        "print(\"hello world\")"
      ],
      "execution_count": 1,
      "outputs": [
        {
          "output_type": "stream",
          "text": [
            "hello world\n"
          ],
          "name": "stdout"
        }
      ]
    },
    {
      "cell_type": "markdown",
      "metadata": {
        "id": "iSwFCKuBPiUI"
      },
      "source": [
        "# This is the first lab session"
      ]
    },
    {
      "cell_type": "markdown",
      "metadata": {
        "id": "vkmWLHJXPiUI"
      },
      "source": [
        "# This is an test tag\n",
        "## This is an test tag\n",
        "###### This is an test tag"
      ]
    },
    {
      "cell_type": "markdown",
      "metadata": {
        "id": "mISAfVoJPiUI"
      },
      "source": [
        "*This text will be italic*\n",
        "_This will also be italic_\n",
        "\n",
        "**This text will be bold**\n",
        "__This will also be bold__\n",
        "\n",
        "_You **can** combine them_"
      ]
    },
    {
      "cell_type": "markdown",
      "metadata": {
        "id": "PJNiS7O6PiUI"
      },
      "source": [
        "* Item 1\n",
        "* Item 2\n",
        "  * Item 2a\n",
        "  * Item 2b"
      ]
    },
    {
      "cell_type": "markdown",
      "metadata": {
        "id": "zqRe8LmWPiUJ"
      },
      "source": [
        "1. Item 1\n",
        "1. Item 2\n",
        "1. Item 3\n",
        "   1. Item 3a\n",
        "   1. Item 3b"
      ]
    },
    {
      "cell_type": "markdown",
      "metadata": {
        "id": "CE8awKmePiUJ"
      },
      "source": [
        "![GitHub Logo](/images/logo.png)\n",
        "Format: ![Alt Text](url)"
      ]
    },
    {
      "cell_type": "markdown",
      "metadata": {
        "id": "eXmN9V4wPiUJ"
      },
      "source": [
        "http://github.com - automatic!\n",
        "[GitHub](http://github.com)"
      ]
    },
    {
      "cell_type": "markdown",
      "metadata": {
        "id": "uH67LTbvPiUJ"
      },
      "source": [
        "As Kanye West said:\n",
        "\n",
        "> We're living the future so\n",
        "> the present is our past."
      ]
    },
    {
      "cell_type": "markdown",
      "metadata": {
        "id": "TcRwhABIPiUJ"
      },
      "source": [
        "I think you should use an\n",
        "`<addr>` element here instead."
      ]
    },
    {
      "cell_type": "markdown",
      "metadata": {
        "id": "ZZ6xR7alPiUK"
      },
      "source": [
        "    def foo():\n",
        "        if not bar:\n",
        "            return True"
      ]
    },
    {
      "cell_type": "markdown",
      "metadata": {
        "id": "NWoXRB9mPiUK"
      },
      "source": [
        "```javascript\n",
        "function fancyAlert(arg) {\n",
        "  if(arg) {\n",
        "    $.facebox({div:'#foo'})\n",
        "  }\n",
        "}\n",
        "```"
      ]
    },
    {
      "cell_type": "markdown",
      "metadata": {
        "id": "WYDhbV4tPiUK"
      },
      "source": [
        "- [x] @mentions, #refs, [links](), **formatting**, and <del>tags</del> supported\n",
        "- [x] list syntax required (any unordered or ordered list supported)\n",
        "- [x] this is a complete item\n",
        "- [ ] this is an incomplete item"
      ]
    },
    {
      "cell_type": "markdown",
      "metadata": {
        "id": "JxhTTB3nPiUK"
      },
      "source": [
        "First Header | Second Header\n",
        "------------ | -------------\n",
        "Content from cell 1 | Content from cell 2\n",
        "Content in the first column | Content in the second column"
      ]
    },
    {
      "cell_type": "markdown",
      "metadata": {
        "id": "K4GYj1Q_PiUK"
      },
      "source": [
        "16c999e8c71134401a78d4d46435517b2271d6ac\n",
        "mojombo@16c999e8c71134401a78d4d46435517b2271d6ac\n",
        "mojombo/github-flavored-markdown@16c999e8c71134401a78d4d46435517b2271d6ac"
      ]
    },
    {
      "cell_type": "markdown",
      "metadata": {
        "id": "zEVGMM0LPiUK"
      },
      "source": [
        "#1\n",
        "mojombo#1\n",
        "mojombo/github-flavored-markdown#1"
      ]
    },
    {
      "cell_type": "markdown",
      "metadata": {
        "id": "Wa-nGWWLPiUL"
      },
      "source": [
        "~~this~~"
      ]
    },
    {
      "cell_type": "markdown",
      "metadata": {
        "id": "WX0BB4eoPiUL"
      },
      "source": [
        "http://www.github.com/"
      ]
    },
    {
      "cell_type": "code",
      "metadata": {
        "id": "RQA7Zs9sPiUL"
      },
      "source": [
        ""
      ],
      "execution_count": null,
      "outputs": []
    }
  ]
}